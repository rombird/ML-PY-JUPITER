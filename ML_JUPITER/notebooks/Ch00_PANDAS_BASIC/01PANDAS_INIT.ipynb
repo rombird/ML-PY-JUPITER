{
 "cells": [
  {
   "cell_type": "code",
   "execution_count": 1,
   "id": "c5a4adc2-6946-4528-b216-c525b3ba4263",
   "metadata": {},
   "outputs": [],
   "source": [
    "import pandas as pd\n",
    "\n",
    "# 시리즈 만들기\n",
    "menu = pd.Series(['비빔밥', '김치찌개', '된장찌개']) # 문자열\n",
    "price = pd.Series([10000, 9000, 8000]) # 정수형\n",
    "\n",
    "# display(menu, price) # 동시에 창 띄울수 있는 함수\n",
    "# print(menu)\n",
    "# print(price)"
   ]
  },
  {
   "cell_type": "code",
   "execution_count": 2,
   "id": "c709c7ba-0592-40ea-9f5d-bacaa222c0fb",
   "metadata": {},
   "outputs": [
    {
     "data": {
      "text/html": [
       "<div>\n",
       "<style scoped>\n",
       "    .dataframe tbody tr th:only-of-type {\n",
       "        vertical-align: middle;\n",
       "    }\n",
       "\n",
       "    .dataframe tbody tr th {\n",
       "        vertical-align: top;\n",
       "    }\n",
       "\n",
       "    .dataframe thead th {\n",
       "        text-align: right;\n",
       "    }\n",
       "</style>\n",
       "<table border=\"1\" class=\"dataframe\">\n",
       "  <thead>\n",
       "    <tr style=\"text-align: right;\">\n",
       "      <th></th>\n",
       "      <th>메뉴</th>\n",
       "      <th>가격</th>\n",
       "      <th>원산지</th>\n",
       "    </tr>\n",
       "  </thead>\n",
       "  <tbody>\n",
       "    <tr>\n",
       "      <th>0</th>\n",
       "      <td>비빔밥</td>\n",
       "      <td>10000</td>\n",
       "      <td>국내산</td>\n",
       "    </tr>\n",
       "    <tr>\n",
       "      <th>1</th>\n",
       "      <td>김치찌개</td>\n",
       "      <td>9000</td>\n",
       "      <td>국내산</td>\n",
       "    </tr>\n",
       "    <tr>\n",
       "      <th>2</th>\n",
       "      <td>된장찌개</td>\n",
       "      <td>8000</td>\n",
       "      <td>국내산</td>\n",
       "    </tr>\n",
       "  </tbody>\n",
       "</table>\n",
       "</div>"
      ],
      "text/plain": [
       "     메뉴     가격  원산지\n",
       "0   비빔밥  10000  국내산\n",
       "1  김치찌개   9000  국내산\n",
       "2  된장찌개   8000  국내산"
      ]
     },
     "execution_count": 2,
     "metadata": {},
     "output_type": "execute_result"
    }
   ],
   "source": [
    "# 데이터 프레임 만들기\n",
    "# 1) 시리즈로 생성\n",
    "df_from_series = pd.DataFrame({\n",
    "    '메뉴': menu,\n",
    "    '가격': price\n",
    "})\n",
    "# df_from_series\n",
    "\n",
    "# 2) 리스트 or 딕셔너리로 직접 생성\n",
    "df = pd.DataFrame({\n",
    "    '메뉴': ['비빔밥', '김치찌개', '된장찌개'],\n",
    "    '가격': [10000, 9000, 8000],\n",
    "    '원산지': ['국내산', '국내산', '국내산']\n",
    "})\n",
    "df"
   ]
  },
  {
   "cell_type": "code",
   "execution_count": 3,
   "id": "a4a5ab51-eaa6-42e3-8d48-b65dc26d8007",
   "metadata": {},
   "outputs": [
    {
     "data": {
      "text/plain": [
       "0     비빔밥\n",
       "1    김치찌개\n",
       "2    된장찌개\n",
       "Name: 메뉴, dtype: object"
      ]
     },
     "execution_count": 3,
     "metadata": {},
     "output_type": "execute_result"
    }
   ],
   "source": [
    "# 단일 컬럼\n",
    "menu_series = df['메뉴']     # 타입: pandas.Series\n",
    "menu_series\n",
    "# type(menu_series) # pandas.core.series.Series"
   ]
  },
  {
   "cell_type": "code",
   "execution_count": 4,
   "id": "114763a5-42a2-4cfb-875d-bb877784a99b",
   "metadata": {
    "scrolled": true
   },
   "outputs": [
    {
     "data": {
      "text/html": [
       "<div>\n",
       "<style scoped>\n",
       "    .dataframe tbody tr th:only-of-type {\n",
       "        vertical-align: middle;\n",
       "    }\n",
       "\n",
       "    .dataframe tbody tr th {\n",
       "        vertical-align: top;\n",
       "    }\n",
       "\n",
       "    .dataframe thead th {\n",
       "        text-align: right;\n",
       "    }\n",
       "</style>\n",
       "<table border=\"1\" class=\"dataframe\">\n",
       "  <thead>\n",
       "    <tr style=\"text-align: right;\">\n",
       "      <th></th>\n",
       "      <th>메뉴</th>\n",
       "    </tr>\n",
       "  </thead>\n",
       "  <tbody>\n",
       "    <tr>\n",
       "      <th>0</th>\n",
       "      <td>비빔밥</td>\n",
       "    </tr>\n",
       "    <tr>\n",
       "      <th>1</th>\n",
       "      <td>김치찌개</td>\n",
       "    </tr>\n",
       "    <tr>\n",
       "      <th>2</th>\n",
       "      <td>된장찌개</td>\n",
       "    </tr>\n",
       "  </tbody>\n",
       "</table>\n",
       "</div>"
      ],
      "text/plain": [
       "     메뉴\n",
       "0   비빔밥\n",
       "1  김치찌개\n",
       "2  된장찌개"
      ]
     },
     "execution_count": 4,
     "metadata": {},
     "output_type": "execute_result"
    }
   ],
   "source": [
    "# 단일 컬럼을 dataFrame으로 \n",
    "menu_df = df[['메뉴']]       # 타입: pandas.DataFrame\n",
    "menu_df\n",
    "# type(menu_df) # pandas.core.frame.DataFrame"
   ]
  },
  {
   "cell_type": "code",
   "execution_count": 5,
   "id": "6332b88c-2bb7-4899-8314-caec24eac04b",
   "metadata": {},
   "outputs": [
    {
     "data": {
      "text/html": [
       "<div>\n",
       "<style scoped>\n",
       "    .dataframe tbody tr th:only-of-type {\n",
       "        vertical-align: middle;\n",
       "    }\n",
       "\n",
       "    .dataframe tbody tr th {\n",
       "        vertical-align: top;\n",
       "    }\n",
       "\n",
       "    .dataframe thead th {\n",
       "        text-align: right;\n",
       "    }\n",
       "</style>\n",
       "<table border=\"1\" class=\"dataframe\">\n",
       "  <thead>\n",
       "    <tr style=\"text-align: right;\">\n",
       "      <th></th>\n",
       "      <th>메뉴</th>\n",
       "      <th>가격</th>\n",
       "    </tr>\n",
       "  </thead>\n",
       "  <tbody>\n",
       "    <tr>\n",
       "      <th>0</th>\n",
       "      <td>비빔밥</td>\n",
       "      <td>10000</td>\n",
       "    </tr>\n",
       "    <tr>\n",
       "      <th>1</th>\n",
       "      <td>김치찌개</td>\n",
       "      <td>9000</td>\n",
       "    </tr>\n",
       "    <tr>\n",
       "      <th>2</th>\n",
       "      <td>된장찌개</td>\n",
       "      <td>8000</td>\n",
       "    </tr>\n",
       "  </tbody>\n",
       "</table>\n",
       "</div>"
      ],
      "text/plain": [
       "     메뉴     가격\n",
       "0   비빔밥  10000\n",
       "1  김치찌개   9000\n",
       "2  된장찌개   8000"
      ]
     },
     "execution_count": 5,
     "metadata": {},
     "output_type": "execute_result"
    }
   ],
   "source": [
    "# 여러 컬럼 선택(메뉴, 가격 선택해서 dataFrame형태로)\n",
    "menu_price_df = df[['메뉴', '가격']]\n",
    "menu_price_df\n",
    "\n",
    "cols = ['메뉴', '가격']\n",
    "menu_price_df2 = df[cols]\n",
    "menu_price_df2"
   ]
  },
  {
   "cell_type": "code",
   "execution_count": 6,
   "id": "be729cae-b1fc-473e-9ee3-40e2074b87eb",
   "metadata": {},
   "outputs": [
    {
     "name": "stdout",
     "output_type": "stream",
     "text": [
      "df          :  <class 'pandas.core.frame.DataFrame'>\n",
      "df['가격']   :  <class 'pandas.core.series.Series'>\n",
      "df[['가격']] :  <class 'pandas.core.frame.DataFrame'>\n"
     ]
    }
   ],
   "source": [
    "# 타입 확인\n",
    "print('df          : ', type(df))\n",
    "print(\"df['가격']   : \", type(df['가격']))     # Series\n",
    "print(\"df[['가격']] : \", type(df[['가격']]))   # DataFrame"
   ]
  },
  {
   "cell_type": "code",
   "execution_count": 7,
   "id": "1ab3365f-cbd9-4bc6-b050-534151774c77",
   "metadata": {},
   "outputs": [
    {
     "data": {
      "text/html": [
       "<div>\n",
       "<style scoped>\n",
       "    .dataframe tbody tr th:only-of-type {\n",
       "        vertical-align: middle;\n",
       "    }\n",
       "\n",
       "    .dataframe tbody tr th {\n",
       "        vertical-align: top;\n",
       "    }\n",
       "\n",
       "    .dataframe thead th {\n",
       "        text-align: right;\n",
       "    }\n",
       "</style>\n",
       "<table border=\"1\" class=\"dataframe\">\n",
       "  <thead>\n",
       "    <tr style=\"text-align: right;\">\n",
       "      <th></th>\n",
       "      <th>메뉴</th>\n",
       "      <th>가격</th>\n",
       "    </tr>\n",
       "  </thead>\n",
       "  <tbody>\n",
       "    <tr>\n",
       "      <th>0</th>\n",
       "      <td>비빔밥</td>\n",
       "      <td>10000</td>\n",
       "    </tr>\n",
       "    <tr>\n",
       "      <th>1</th>\n",
       "      <td>김치찌개</td>\n",
       "      <td>9000</td>\n",
       "    </tr>\n",
       "  </tbody>\n",
       "</table>\n",
       "</div>"
      ],
      "text/plain": [
       "     메뉴     가격\n",
       "0   비빔밥  10000\n",
       "1  김치찌개   9000"
      ]
     },
     "execution_count": 7,
     "metadata": {},
     "output_type": "execute_result"
    }
   ],
   "source": [
    "# 행 선택\n",
    "# 1) loc (레이블기반)\n",
    "row0 = df.loc[0]  # 첫 번째 행(인덱스 0) 전체\n",
    "row0\n",
    "rows_0_to_1 = df.loc[0:1] # # 인덱스 0~1 범위(끝 포함)\n",
    "rows_0_to_1\n",
    "\n",
    "# 조건식: 가격이 9000 이상인 행\n",
    "rows_price_ge_9000 = df.loc[df['가격'] >= 9000, ['메뉴', '가격']]\n",
    "rows_price_ge_9000"
   ]
  },
  {
   "cell_type": "code",
   "execution_count": 8,
   "id": "52ec3fa7-559c-4339-8d73-446e1ed81dfc",
   "metadata": {},
   "outputs": [
    {
     "data": {
      "text/html": [
       "<div>\n",
       "<style scoped>\n",
       "    .dataframe tbody tr th:only-of-type {\n",
       "        vertical-align: middle;\n",
       "    }\n",
       "\n",
       "    .dataframe tbody tr th {\n",
       "        vertical-align: top;\n",
       "    }\n",
       "\n",
       "    .dataframe thead th {\n",
       "        text-align: right;\n",
       "    }\n",
       "</style>\n",
       "<table border=\"1\" class=\"dataframe\">\n",
       "  <thead>\n",
       "    <tr style=\"text-align: right;\">\n",
       "      <th></th>\n",
       "      <th>메뉴</th>\n",
       "      <th>가격</th>\n",
       "      <th>원산지</th>\n",
       "    </tr>\n",
       "  </thead>\n",
       "  <tbody>\n",
       "    <tr>\n",
       "      <th>0</th>\n",
       "      <td>비빔밥</td>\n",
       "      <td>10000</td>\n",
       "      <td>국내산</td>\n",
       "    </tr>\n",
       "    <tr>\n",
       "      <th>1</th>\n",
       "      <td>김치찌개</td>\n",
       "      <td>9000</td>\n",
       "      <td>국내산</td>\n",
       "    </tr>\n",
       "  </tbody>\n",
       "</table>\n",
       "</div>"
      ],
      "text/plain": [
       "     메뉴     가격  원산지\n",
       "0   비빔밥  10000  국내산\n",
       "1  김치찌개   9000  국내산"
      ]
     },
     "execution_count": 8,
     "metadata": {},
     "output_type": "execute_result"
    }
   ],
   "source": [
    "# 2) iloc (정수기반)\n",
    "row0_iloc = df.iloc[0] # 첫 번째 행(정수 위치 0)\n",
    "row0_iloc\n",
    "\n",
    "\n",
    "sub_iloc = df.iloc[0:2, 0:3] # 첫 2행(0,1)과 앞의 2개 컬럼(0,1)\n",
    "sub_iloc"
   ]
  },
  {
   "cell_type": "code",
   "execution_count": 9,
   "id": "923534fb-65ae-495f-904c-ccb5ccbefa64",
   "metadata": {},
   "outputs": [
    {
     "data": {
      "text/html": [
       "<div>\n",
       "<style scoped>\n",
       "    .dataframe tbody tr th:only-of-type {\n",
       "        vertical-align: middle;\n",
       "    }\n",
       "\n",
       "    .dataframe tbody tr th {\n",
       "        vertical-align: top;\n",
       "    }\n",
       "\n",
       "    .dataframe thead th {\n",
       "        text-align: right;\n",
       "    }\n",
       "</style>\n",
       "<table border=\"1\" class=\"dataframe\">\n",
       "  <thead>\n",
       "    <tr style=\"text-align: right;\">\n",
       "      <th></th>\n",
       "      <th>메뉴</th>\n",
       "      <th>가격</th>\n",
       "      <th>원산지</th>\n",
       "      <th>할인가</th>\n",
       "    </tr>\n",
       "  </thead>\n",
       "  <tbody>\n",
       "    <tr>\n",
       "      <th>0</th>\n",
       "      <td>비빔밥</td>\n",
       "      <td>10000</td>\n",
       "      <td>국내산</td>\n",
       "      <td>9000</td>\n",
       "    </tr>\n",
       "    <tr>\n",
       "      <th>1</th>\n",
       "      <td>김치찌개</td>\n",
       "      <td>9000</td>\n",
       "      <td>국내산</td>\n",
       "      <td>8100</td>\n",
       "    </tr>\n",
       "    <tr>\n",
       "      <th>2</th>\n",
       "      <td>된장찌개</td>\n",
       "      <td>8000</td>\n",
       "      <td>국내산</td>\n",
       "      <td>7200</td>\n",
       "    </tr>\n",
       "  </tbody>\n",
       "</table>\n",
       "</div>"
      ],
      "text/plain": [
       "     메뉴     가격  원산지   할인가\n",
       "0   비빔밥  10000  국내산  9000\n",
       "1  김치찌개   9000  국내산  8100\n",
       "2  된장찌개   8000  국내산  7200"
      ]
     },
     "execution_count": 9,
     "metadata": {},
     "output_type": "execute_result"
    }
   ],
   "source": [
    "# 컬럼 추가\n",
    "# 10% 할인 가격 컬럼 추가\n",
    "df['할인가'] = (df['가격'] * 0.9).astype(int) \n",
    "df"
   ]
  },
  {
   "cell_type": "code",
   "execution_count": 10,
   "id": "fe64ebbd-7918-4078-9a09-5b7071add9f2",
   "metadata": {},
   "outputs": [
    {
     "data": {
      "text/html": [
       "<div>\n",
       "<style scoped>\n",
       "    .dataframe tbody tr th:only-of-type {\n",
       "        vertical-align: middle;\n",
       "    }\n",
       "\n",
       "    .dataframe tbody tr th {\n",
       "        vertical-align: top;\n",
       "    }\n",
       "\n",
       "    .dataframe thead th {\n",
       "        text-align: right;\n",
       "    }\n",
       "</style>\n",
       "<table border=\"1\" class=\"dataframe\">\n",
       "  <thead>\n",
       "    <tr style=\"text-align: right;\">\n",
       "      <th></th>\n",
       "      <th>메뉴</th>\n",
       "      <th>가격</th>\n",
       "      <th>원산지</th>\n",
       "      <th>할인가</th>\n",
       "    </tr>\n",
       "  </thead>\n",
       "  <tbody>\n",
       "    <tr>\n",
       "      <th>0</th>\n",
       "      <td>비빔밥</td>\n",
       "      <td>10000</td>\n",
       "      <td>국내산</td>\n",
       "      <td>9000</td>\n",
       "    </tr>\n",
       "    <tr>\n",
       "      <th>1</th>\n",
       "      <td>김치찌개</td>\n",
       "      <td>9500</td>\n",
       "      <td>국내산</td>\n",
       "      <td>8100</td>\n",
       "    </tr>\n",
       "    <tr>\n",
       "      <th>2</th>\n",
       "      <td>된장찌개</td>\n",
       "      <td>8000</td>\n",
       "      <td>국내산</td>\n",
       "      <td>7200</td>\n",
       "    </tr>\n",
       "  </tbody>\n",
       "</table>\n",
       "</div>"
      ],
      "text/plain": [
       "     메뉴     가격  원산지   할인가\n",
       "0   비빔밥  10000  국내산  9000\n",
       "1  김치찌개   9500  국내산  8100\n",
       "2  된장찌개   8000  국내산  7200"
      ]
     },
     "execution_count": 10,
     "metadata": {},
     "output_type": "execute_result"
    }
   ],
   "source": [
    "# 값 수정\n",
    "# '김치찌개' 가격 9500으로 변경\n",
    "df.loc[df['메뉴'] == '김치찌개', '가격'] = 9500\n",
    "df"
   ]
  },
  {
   "cell_type": "code",
   "execution_count": 11,
   "id": "ff54629a-74ec-4748-a7f0-0e21261a860f",
   "metadata": {},
   "outputs": [
    {
     "data": {
      "text/html": [
       "<div>\n",
       "<style scoped>\n",
       "    .dataframe tbody tr th:only-of-type {\n",
       "        vertical-align: middle;\n",
       "    }\n",
       "\n",
       "    .dataframe tbody tr th {\n",
       "        vertical-align: top;\n",
       "    }\n",
       "\n",
       "    .dataframe thead th {\n",
       "        text-align: right;\n",
       "    }\n",
       "</style>\n",
       "<table border=\"1\" class=\"dataframe\">\n",
       "  <thead>\n",
       "    <tr style=\"text-align: right;\">\n",
       "      <th></th>\n",
       "      <th>메뉴</th>\n",
       "      <th>가격</th>\n",
       "      <th>원산지</th>\n",
       "    </tr>\n",
       "  </thead>\n",
       "  <tbody>\n",
       "    <tr>\n",
       "      <th>0</th>\n",
       "      <td>비빔밥</td>\n",
       "      <td>10000</td>\n",
       "      <td>국내산</td>\n",
       "    </tr>\n",
       "    <tr>\n",
       "      <th>1</th>\n",
       "      <td>김치찌개</td>\n",
       "      <td>9500</td>\n",
       "      <td>국내산</td>\n",
       "    </tr>\n",
       "    <tr>\n",
       "      <th>2</th>\n",
       "      <td>된장찌개</td>\n",
       "      <td>8000</td>\n",
       "      <td>국내산</td>\n",
       "    </tr>\n",
       "  </tbody>\n",
       "</table>\n",
       "</div>"
      ],
      "text/plain": [
       "     메뉴     가격  원산지\n",
       "0   비빔밥  10000  국내산\n",
       "1  김치찌개   9500  국내산\n",
       "2  된장찌개   8000  국내산"
      ]
     },
     "execution_count": 11,
     "metadata": {},
     "output_type": "execute_result"
    }
   ],
   "source": [
    "# 컬럼 삭제\n",
    "# '할인가' 컬럼 삭제\n",
    "df = df.drop(columns=['할인가']) # df.drop(columns=['할인가']) 만 실행하면 확인 -> df에 넣어줘야 적용됨\n",
    "df"
   ]
  },
  {
   "cell_type": "code",
   "execution_count": 12,
   "id": "0088e032-4b4e-4c49-91b5-3f28f06865b9",
   "metadata": {},
   "outputs": [],
   "source": [
    "# 문제1\n",
    "# fruits = pd.Series(['사과', '바나나', '포도'])\n",
    "# fruits"
   ]
  },
  {
   "cell_type": "code",
   "execution_count": 13,
   "id": "1e2b8ea3-04d8-4df0-ada7-77a43be65104",
   "metadata": {},
   "outputs": [],
   "source": [
    "# 문제2\n",
    "# df = pd.DataFrame({\n",
    "#     '상품' : ['키보드', '마우스', '모니터'],\n",
    "#     '가격' : [30000, 15000, 200000],\n",
    "#     '재고' : [10, 25, 7]\n",
    "# })\n",
    "# df"
   ]
  },
  {
   "cell_type": "code",
   "execution_count": 14,
   "id": "0d4cc912-8ee4-49a6-b2f1-68dda6fc3802",
   "metadata": {},
   "outputs": [],
   "source": [
    "# 문제3\n",
    "# prod_s = df['상품']  # series로\n",
    "# prod_df = df[['상품']] # dataframe으로"
   ]
  },
  {
   "cell_type": "code",
   "execution_count": 15,
   "id": "55025cfc-40e1-4d6a-b6a1-b249ae400ad4",
   "metadata": {},
   "outputs": [],
   "source": [
    "# 문제4\n",
    "# price_view = df[['상품', '가격']]\n",
    "# price_view"
   ]
  },
  {
   "cell_type": "code",
   "execution_count": 16,
   "id": "d5df9e96-e588-4c5e-9512-b569353ecf14",
   "metadata": {},
   "outputs": [],
   "source": [
    "# 문제5\n",
    "# expensive = df.loc[df['가격'] >= 20000, ['상품', '가격']]\n",
    "# expensive"
   ]
  },
  {
   "cell_type": "code",
   "execution_count": 17,
   "id": "bb4cf62e-fda6-4029-9657-25adad679616",
   "metadata": {},
   "outputs": [],
   "source": [
    "# 문제6\n",
    "# df.loc[df['상품'] == '마우스', '가격'] = 17000\n",
    "# df"
   ]
  },
  {
   "cell_type": "code",
   "execution_count": 18,
   "id": "bff2ae72-e180-45d9-8203-ebf4acaaadea",
   "metadata": {},
   "outputs": [],
   "source": [
    "# 문제7\n",
    "# sub_iloc = df.iloc[:2, :2]\n",
    "# sub_iloc"
   ]
  },
  {
   "cell_type": "code",
   "execution_count": 19,
   "id": "176810b5-550b-4716-8c70-e7e01eae2887",
   "metadata": {},
   "outputs": [],
   "source": [
    "# 문제8\n",
    "# df['부가세 포함가'] = (df['가격'] * 0.9).astype(int)\n",
    "# df"
   ]
  },
  {
   "cell_type": "code",
   "execution_count": 20,
   "id": "71b39c79-8726-447b-b74f-1226d4ddccc6",
   "metadata": {},
   "outputs": [],
   "source": [
    "# 문제9\n",
    "# df_sorted = df.sort_values(by='가격', ascending=False)\n",
    "# df_sorted"
   ]
  },
  {
   "cell_type": "code",
   "execution_count": 21,
   "id": "d40b652a-2c76-41e2-b1b1-1bca04f7876e",
   "metadata": {},
   "outputs": [],
   "source": [
    "# 문제10\n",
    "# df_en = df.rename(columns={'상품' : 'product', '가격' : 'price', '재고' : 'stock'})\n",
    "# df_en"
   ]
  },
  {
   "cell_type": "code",
   "execution_count": 22,
   "id": "bf7fe4e7-8ee1-41c9-ac11-9d3ae58479f6",
   "metadata": {},
   "outputs": [
    {
     "data": {
      "text/html": [
       "<div>\n",
       "<style scoped>\n",
       "    .dataframe tbody tr th:only-of-type {\n",
       "        vertical-align: middle;\n",
       "    }\n",
       "\n",
       "    .dataframe tbody tr th {\n",
       "        vertical-align: top;\n",
       "    }\n",
       "\n",
       "    .dataframe thead th {\n",
       "        text-align: right;\n",
       "    }\n",
       "</style>\n",
       "<table border=\"1\" class=\"dataframe\">\n",
       "  <thead>\n",
       "    <tr style=\"text-align: right;\">\n",
       "      <th></th>\n",
       "      <th>A</th>\n",
       "      <th>B</th>\n",
       "    </tr>\n",
       "  </thead>\n",
       "  <tbody>\n",
       "    <tr>\n",
       "      <th>0</th>\n",
       "      <td>10</td>\n",
       "      <td>1</td>\n",
       "    </tr>\n",
       "    <tr>\n",
       "      <th>1</th>\n",
       "      <td>20</td>\n",
       "      <td>2</td>\n",
       "    </tr>\n",
       "    <tr>\n",
       "      <th>2</th>\n",
       "      <td>30</td>\n",
       "      <td>3</td>\n",
       "    </tr>\n",
       "    <tr>\n",
       "      <th>3</th>\n",
       "      <td>40</td>\n",
       "      <td>4</td>\n",
       "    </tr>\n",
       "  </tbody>\n",
       "</table>\n",
       "</div>"
      ],
      "text/plain": [
       "    A  B\n",
       "0  10  1\n",
       "1  20  2\n",
       "2  30  3\n",
       "3  40  4"
      ]
     },
     "execution_count": 22,
     "metadata": {},
     "output_type": "execute_result"
    }
   ],
   "source": [
    "# 문제11\n",
    "# 예시용 df2\n",
    "df2 = pd.DataFrame({\n",
    "    'A': [10, 20, 30, 40],\n",
    "    'B': [1, 2, 3, 4]\n",
    "}, index=[0, 1, 2, 3])\n",
    "df2"
   ]
  },
  {
   "cell_type": "code",
   "execution_count": 23,
   "id": "8acf618b-1d1a-4588-a9c5-d75ce48e2014",
   "metadata": {},
   "outputs": [
    {
     "data": {
      "text/html": [
       "<div>\n",
       "<style scoped>\n",
       "    .dataframe tbody tr th:only-of-type {\n",
       "        vertical-align: middle;\n",
       "    }\n",
       "\n",
       "    .dataframe tbody tr th {\n",
       "        vertical-align: top;\n",
       "    }\n",
       "\n",
       "    .dataframe thead th {\n",
       "        text-align: right;\n",
       "    }\n",
       "</style>\n",
       "<table border=\"1\" class=\"dataframe\">\n",
       "  <thead>\n",
       "    <tr style=\"text-align: right;\">\n",
       "      <th></th>\n",
       "      <th>A</th>\n",
       "      <th>B</th>\n",
       "    </tr>\n",
       "  </thead>\n",
       "  <tbody>\n",
       "    <tr>\n",
       "      <th>0</th>\n",
       "      <td>10</td>\n",
       "      <td>1</td>\n",
       "    </tr>\n",
       "    <tr>\n",
       "      <th>1</th>\n",
       "      <td>20</td>\n",
       "      <td>2</td>\n",
       "    </tr>\n",
       "    <tr>\n",
       "      <th>2</th>\n",
       "      <td>30</td>\n",
       "      <td>3</td>\n",
       "    </tr>\n",
       "  </tbody>\n",
       "</table>\n",
       "</div>"
      ],
      "text/plain": [
       "    A  B\n",
       "0  10  1\n",
       "1  20  2\n",
       "2  30  3"
      ]
     },
     "execution_count": 23,
     "metadata": {},
     "output_type": "execute_result"
    }
   ],
   "source": [
    "part_loc = df2.loc[:2]\n",
    "part_loc"
   ]
  },
  {
   "cell_type": "code",
   "execution_count": 24,
   "id": "d8664861-79c1-4525-85ff-95ef93c000e1",
   "metadata": {},
   "outputs": [
    {
     "data": {
      "text/html": [
       "<div>\n",
       "<style scoped>\n",
       "    .dataframe tbody tr th:only-of-type {\n",
       "        vertical-align: middle;\n",
       "    }\n",
       "\n",
       "    .dataframe tbody tr th {\n",
       "        vertical-align: top;\n",
       "    }\n",
       "\n",
       "    .dataframe thead th {\n",
       "        text-align: right;\n",
       "    }\n",
       "</style>\n",
       "<table border=\"1\" class=\"dataframe\">\n",
       "  <thead>\n",
       "    <tr style=\"text-align: right;\">\n",
       "      <th></th>\n",
       "      <th>A</th>\n",
       "      <th>B</th>\n",
       "    </tr>\n",
       "  </thead>\n",
       "  <tbody>\n",
       "    <tr>\n",
       "      <th>0</th>\n",
       "      <td>10</td>\n",
       "      <td>1</td>\n",
       "    </tr>\n",
       "    <tr>\n",
       "      <th>1</th>\n",
       "      <td>20</td>\n",
       "      <td>2</td>\n",
       "    </tr>\n",
       "  </tbody>\n",
       "</table>\n",
       "</div>"
      ],
      "text/plain": [
       "    A  B\n",
       "0  10  1\n",
       "1  20  2"
      ]
     },
     "execution_count": 24,
     "metadata": {},
     "output_type": "execute_result"
    }
   ],
   "source": [
    "# 문제12\n",
    "part_iloc = df2.iloc[:2]\n",
    "part_iloc"
   ]
  },
  {
   "cell_type": "code",
   "execution_count": 25,
   "id": "334b94ae-270b-41ad-ba84-0c46bb9ba115",
   "metadata": {},
   "outputs": [],
   "source": [
    "# 문제13\n",
    "# redf = df['가격'] >= 50000\n",
    "# # redf\n",
    "# df.loc[redf, '재고'] = df.loc[redf, '재고'] + 5\n",
    "# df.loc[redf, '부가세 포함가'] = (df.loc[redf, '가격'] * 1.10).astype(int)\n",
    "# df\n",
    "# df # -> dataframe 확인용"
   ]
  },
  {
   "cell_type": "code",
   "execution_count": 29,
   "id": "d2fbe724-3f5c-4d93-960f-ca0a65dfb87a",
   "metadata": {},
   "outputs": [
    {
     "data": {
      "text/html": [
       "<div>\n",
       "<style scoped>\n",
       "    .dataframe tbody tr th:only-of-type {\n",
       "        vertical-align: middle;\n",
       "    }\n",
       "\n",
       "    .dataframe tbody tr th {\n",
       "        vertical-align: top;\n",
       "    }\n",
       "\n",
       "    .dataframe thead th {\n",
       "        text-align: right;\n",
       "    }\n",
       "</style>\n",
       "<table border=\"1\" class=\"dataframe\">\n",
       "  <thead>\n",
       "    <tr style=\"text-align: right;\">\n",
       "      <th></th>\n",
       "      <th>메뉴</th>\n",
       "      <th>가격</th>\n",
       "      <th>원산지</th>\n",
       "    </tr>\n",
       "  </thead>\n",
       "  <tbody>\n",
       "    <tr>\n",
       "      <th>0</th>\n",
       "      <td>비빔밥</td>\n",
       "      <td>10000</td>\n",
       "      <td>국내산</td>\n",
       "    </tr>\n",
       "    <tr>\n",
       "      <th>1</th>\n",
       "      <td>김치찌개</td>\n",
       "      <td>9500</td>\n",
       "      <td>국내산</td>\n",
       "    </tr>\n",
       "    <tr>\n",
       "      <th>2</th>\n",
       "      <td>된장찌개</td>\n",
       "      <td>8000</td>\n",
       "      <td>국내산</td>\n",
       "    </tr>\n",
       "  </tbody>\n",
       "</table>\n",
       "</div>"
      ],
      "text/plain": [
       "     메뉴     가격  원산지\n",
       "0   비빔밥  10000  국내산\n",
       "1  김치찌개   9500  국내산\n",
       "2  된장찌개   8000  국내산"
      ]
     },
     "execution_count": 29,
     "metadata": {},
     "output_type": "execute_result"
    }
   ],
   "source": [
    "# 가격 오름차순\n",
    "df_sorted_asc = df.sort_values(by='가격', ascending=True)\n",
    "\n",
    "# 가격 내림차순\n",
    "df_sorted_desc = df.sort_values(by='가격', ascending=False)\n",
    "df_sorted_asc\n",
    "df_sorted_desc"
   ]
  },
  {
   "cell_type": "code",
   "execution_count": 28,
   "id": "6280f52f-a493-468a-aac5-0cb62b33780c",
   "metadata": {},
   "outputs": [
    {
     "data": {
      "text/html": [
       "<div>\n",
       "<style scoped>\n",
       "    .dataframe tbody tr th:only-of-type {\n",
       "        vertical-align: middle;\n",
       "    }\n",
       "\n",
       "    .dataframe tbody tr th {\n",
       "        vertical-align: top;\n",
       "    }\n",
       "\n",
       "    .dataframe thead th {\n",
       "        text-align: right;\n",
       "    }\n",
       "</style>\n",
       "<table border=\"1\" class=\"dataframe\">\n",
       "  <thead>\n",
       "    <tr style=\"text-align: right;\">\n",
       "      <th></th>\n",
       "      <th>메뉴</th>\n",
       "      <th>가격</th>\n",
       "      <th>원산지</th>\n",
       "    </tr>\n",
       "  </thead>\n",
       "  <tbody>\n",
       "    <tr>\n",
       "      <th>0</th>\n",
       "      <td>비빔밥</td>\n",
       "      <td>10000</td>\n",
       "      <td>국내산</td>\n",
       "    </tr>\n",
       "    <tr>\n",
       "      <th>1</th>\n",
       "      <td>김치찌개</td>\n",
       "      <td>9500</td>\n",
       "      <td>국내산</td>\n",
       "    </tr>\n",
       "  </tbody>\n",
       "</table>\n",
       "</div>"
      ],
      "text/plain": [
       "     메뉴     가격  원산지\n",
       "0   비빔밥  10000  국내산\n",
       "1  김치찌개   9500  국내산"
      ]
     },
     "execution_count": 28,
     "metadata": {},
     "output_type": "execute_result"
    }
   ],
   "source": [
    "# 원산지가 국내산이면서 가격이 9000 이상\n",
    "filtered = df[(df['원산지'] == '국내산') & (df['가격'] >= 9000)]\n",
    "# filtered\n",
    "\n",
    "c = (df['원산지'] == '국내산') & (df['가격'] >= 9000)\n",
    "type(c)\n",
    "d = df[c]\n",
    "d"
   ]
  },
  {
   "cell_type": "code",
   "execution_count": 30,
   "id": "4cdde87f-05ee-47fa-a450-3b7a2f77cff9",
   "metadata": {},
   "outputs": [
    {
     "data": {
      "text/html": [
       "<div>\n",
       "<style scoped>\n",
       "    .dataframe tbody tr th:only-of-type {\n",
       "        vertical-align: middle;\n",
       "    }\n",
       "\n",
       "    .dataframe tbody tr th {\n",
       "        vertical-align: top;\n",
       "    }\n",
       "\n",
       "    .dataframe thead th {\n",
       "        text-align: right;\n",
       "    }\n",
       "</style>\n",
       "<table border=\"1\" class=\"dataframe\">\n",
       "  <thead>\n",
       "    <tr style=\"text-align: right;\">\n",
       "      <th></th>\n",
       "      <th>menu</th>\n",
       "      <th>price</th>\n",
       "      <th>origin</th>\n",
       "    </tr>\n",
       "  </thead>\n",
       "  <tbody>\n",
       "    <tr>\n",
       "      <th>0</th>\n",
       "      <td>비빔밥</td>\n",
       "      <td>10000</td>\n",
       "      <td>국내산</td>\n",
       "    </tr>\n",
       "    <tr>\n",
       "      <th>1</th>\n",
       "      <td>김치찌개</td>\n",
       "      <td>9500</td>\n",
       "      <td>국내산</td>\n",
       "    </tr>\n",
       "    <tr>\n",
       "      <th>2</th>\n",
       "      <td>된장찌개</td>\n",
       "      <td>8000</td>\n",
       "      <td>국내산</td>\n",
       "    </tr>\n",
       "  </tbody>\n",
       "</table>\n",
       "</div>"
      ],
      "text/plain": [
       "   menu  price origin\n",
       "0   비빔밥  10000    국내산\n",
       "1  김치찌개   9500    국내산\n",
       "2  된장찌개   8000    국내산"
      ]
     },
     "execution_count": 30,
     "metadata": {},
     "output_type": "execute_result"
    }
   ],
   "source": [
    "# 컬럼명 일괄 변경 예시\n",
    "df_renamed = df.rename(columns={'메뉴': 'menu', '가격': 'price', '원산지': 'origin'})\n",
    "df_renamed"
   ]
  },
  {
   "cell_type": "code",
   "execution_count": null,
   "id": "4305bc0d-6b66-427a-b2c7-edf1ee610bf2",
   "metadata": {},
   "outputs": [],
   "source": []
  }
 ],
 "metadata": {
  "kernelspec": {
   "display_name": "Python 3 (ipykernel)",
   "language": "python",
   "name": "python3"
  },
  "language_info": {
   "codemirror_mode": {
    "name": "ipython",
    "version": 3
   },
   "file_extension": ".py",
   "mimetype": "text/x-python",
   "name": "python",
   "nbconvert_exporter": "python",
   "pygments_lexer": "ipython3",
   "version": "3.11.6"
  }
 },
 "nbformat": 4,
 "nbformat_minor": 5
}
